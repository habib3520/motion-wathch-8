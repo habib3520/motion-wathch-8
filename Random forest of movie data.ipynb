{
 "cells": [
  {
   "cell_type": "code",
   "execution_count": 6,
   "id": "70130613",
   "metadata": {},
   "outputs": [],
   "source": [
    "import os\n",
    "import pandas as pd\n",
    "import numpy as np\n",
    "from sklearn.model_selection import train_test_split\n",
    "from sklearn.ensemble import RandomForestClassifier\n",
    "from sklearn.metrics import accuracy_score, classification_report"
   ]
  },
  {
   "cell_type": "code",
   "execution_count": 7,
   "id": "a98fbbcd",
   "metadata": {},
   "outputs": [],
   "source": [
    "# Path to the data folders\n",
    "data_path = r'E:\\Research paper\\motion watch 8\\Raw Data'\n",
    "categories = ['Crime', 'Historical', 'Horror', 'Romance']"
   ]
  },
  {
   "cell_type": "code",
   "execution_count": 8,
   "id": "45e80615",
   "metadata": {},
   "outputs": [],
   "source": [
    "# Function to load data\n",
    "def load_data(data_path, categories):\n",
    "    data = []\n",
    "    labels = []\n",
    "    for category in categories:\n",
    "        category_path = os.path.join(data_path, category)\n",
    "        for file in os.listdir(category_path):\n",
    "            if file.endswith('.xlsx') or file.endswith('.xls'):\n",
    "                file_path = os.path.join(category_path, file)\n",
    "                df = pd.read_excel(file_path)\n",
    "                data.append(df)\n",
    "                labels.append(category)\n",
    "    return data, labels"
   ]
  },
  {
   "cell_type": "code",
   "execution_count": 9,
   "id": "2a641200",
   "metadata": {},
   "outputs": [],
   "source": [
    "# Load the data\n",
    "data, labels = load_data(data_path, categories)"
   ]
  },
  {
   "cell_type": "code",
   "execution_count": 10,
   "id": "2aabd51c",
   "metadata": {},
   "outputs": [
    {
     "name": "stdout",
     "output_type": "stream",
     "text": [
      "Loaded data for 80 files.\n"
     ]
    }
   ],
   "source": [
    "# Check if data is loaded correctly\n",
    "if not data:\n",
    "    raise ValueError(\"No data found. Please check the data path and folder structure.\")\n",
    "else:\n",
    "    print(f\"Loaded data for {len(data)} files.\")"
   ]
  },
  {
   "cell_type": "code",
   "execution_count": 11,
   "id": "aaa30eb6",
   "metadata": {},
   "outputs": [
    {
     "name": "stdout",
     "output_type": "stream",
     "text": [
      "File 0 columns: ['Date', 'Time', 'Activity (Triaxial-Counts)']\n",
      "File 1 columns: ['Date', 'Time', 'Activity (Triaxial-Counts)']\n",
      "File 2 columns: ['Date', 'Time', 'Activity (Triaxial-Counts)']\n",
      "File 3 columns: ['Date', 'Time', 'Activity (Triaxial-Counts)']\n",
      "File 4 columns: ['Date', 'Time', 'Activity (Triaxial-Counts)']\n",
      "File 5 columns: ['Date', 'Time', 'Activity (Triaxial-Counts)']\n",
      "File 6 columns: ['Date', 'Time', 'Activity (Triaxial-Counts)']\n",
      "File 7 columns: ['Date', 'Time', 'Activity (Triaxial-Counts)', 'Light (lux)']\n",
      "File 8 columns: ['Date', 'Time', 'Activity (Triaxial-Counts)']\n",
      "File 9 columns: ['Date', 'Time', 'Activity (Triaxial-Counts)']\n",
      "File 10 columns: ['Date', 'Time', 'Activity (Triaxial-Counts)']\n",
      "File 11 columns: ['Date', 'Time', 'Activity (Triaxial-Counts)']\n",
      "File 12 columns: ['Date', 'Time', 'Activity (Triaxial-Counts)']\n",
      "File 13 columns: ['Date', 'Time', 'Activity (Triaxial-Counts)']\n",
      "File 14 columns: ['Date', 'Time', 'Activity (Triaxial-Counts)', 'Light (lux)']\n",
      "File 15 columns: ['Date', 'Time', 'Activity (Triaxial-Counts)']\n",
      "File 16 columns: ['Date', 'Time', 'Activity (Triaxial-Counts)', 'Light (lux)']\n",
      "File 17 columns: ['Date', 'Time', 'Activity (Triaxial-Counts)']\n",
      "File 18 columns: ['Date', 'Time', 'Activity (Triaxial-Counts)']\n",
      "File 19 columns: ['Date', 'Time', 'Activity (Triaxial-Counts)']\n",
      "File 20 columns: ['Date', 'Time', 'Activity (Triaxial-Counts)']\n",
      "File 21 columns: ['Date', 'Time', 'Activity (Triaxial-Counts)']\n",
      "File 22 columns: ['Date', 'Time', 'Activity (Triaxial-Counts)']\n",
      "File 23 columns: ['Date', 'Time', 'Activity (Triaxial-Counts)']\n",
      "File 24 columns: ['Date', 'Time', 'Activity (Triaxial-Counts)']\n",
      "File 25 columns: ['Date', 'Time', 'Activity (Triaxial-Counts)']\n",
      "File 26 columns: ['Date', 'Time', 'Activity (Triaxial-Counts)']\n",
      "File 27 columns: ['Date', 'Time', 'Activity (Triaxial-Counts)']\n",
      "File 28 columns: ['Date', 'Time', 'Activity (Triaxial-Counts)']\n",
      "File 29 columns: ['Date', 'Time', 'Activity (Triaxial-Counts)']\n",
      "File 30 columns: ['Date', 'Time', 'Activity (Triaxial-Counts)']\n",
      "File 31 columns: ['Date', 'Time', 'Activity (Triaxial-Counts)']\n",
      "File 32 columns: ['Date', 'Time', 'Activity (Triaxial-Counts)']\n",
      "File 33 columns: ['Date', 'Time', 'Activity (Triaxial-Counts)']\n",
      "File 34 columns: ['Date', 'Time', 'Activity (Triaxial-Counts)']\n",
      "File 35 columns: ['Date', 'Time', 'Activity (Triaxial-Counts)']\n",
      "File 36 columns: ['Date', 'Time', 'Activity (Triaxial-Counts)']\n",
      "File 37 columns: ['Date', 'Time', 'Activity (Triaxial-Counts)']\n",
      "File 38 columns: ['Date', 'Time', 'Activity (Triaxial-Counts)']\n",
      "File 39 columns: ['Date', 'Time', 'Activity (Triaxial-Counts)']\n",
      "File 40 columns: ['Date', 'Time', 'Activity (Triaxial-Counts)']\n",
      "File 41 columns: ['Date', 'Time', 'Activity (Triaxial-Counts)']\n",
      "File 42 columns: ['Date', 'Time', 'Activity (Triaxial-Counts)']\n",
      "File 43 columns: ['Date', 'Time', 'Activity (Triaxial-Counts)']\n",
      "File 44 columns: ['Date', 'Time', 'Activity (Triaxial-Counts)']\n",
      "File 45 columns: ['Date', 'Time', 'Activity (Triaxial-Counts)']\n",
      "File 46 columns: ['Date', 'Time', 'Activity (Triaxial-Counts)']\n",
      "File 47 columns: ['Date', 'Time', 'Activity (Triaxial-Counts)']\n",
      "File 48 columns: ['Date', 'Time', 'Activity (Triaxial-Counts)']\n",
      "File 49 columns: ['Date', 'Time', 'Activity (Triaxial-Counts)']\n",
      "File 50 columns: ['Date', 'Time', 'Activity (Triaxial-Counts)']\n",
      "File 51 columns: ['Date', 'Time', 'Activity (Triaxial-Counts)']\n",
      "File 52 columns: ['Date', 'Time', 'Activity (Triaxial-Counts)']\n",
      "File 53 columns: ['Date', 'Time', 'Activity (Triaxial-Counts)']\n",
      "File 54 columns: ['Date', 'Time', 'Activity (Triaxial-Counts)']\n",
      "File 55 columns: ['Date', 'Time', 'Activity (Triaxial-Counts)', 'Light (lux)']\n",
      "File 56 columns: ['Date', 'Time', 'Activity (Triaxial-Counts)']\n",
      "File 57 columns: ['Date', 'Time', 'Activity (Triaxial-Counts)']\n",
      "File 58 columns: ['Date', 'Time', 'Activity (Triaxial-Counts)']\n",
      "File 59 columns: ['Date', 'Time', 'Activity (Triaxial-Counts)', 'Light (lux)']\n",
      "File 60 columns: ['Date', 'Time', 'Activity (Triaxial-Counts)']\n",
      "File 61 columns: ['Date', 'Time', 'Activity (Triaxial-Counts)']\n",
      "File 62 columns: ['Date', 'Time', 'Activity (Triaxial-Counts)']\n",
      "File 63 columns: ['Date', 'Time', 'Activity (Triaxial-Counts)', 'Light (lux)']\n",
      "File 64 columns: ['Date', 'Time', 'Activity (Triaxial-Counts)']\n",
      "File 65 columns: ['Date', 'Time', 'Activity (Triaxial-Counts)', 'Light (lux)']\n",
      "File 66 columns: ['Date', 'Time', 'Activity (Triaxial-Counts)']\n",
      "File 67 columns: ['Date', 'Time', 'Activity (Triaxial-Counts)', 'Light (lux)']\n",
      "File 68 columns: ['Date', 'Time', 'Activity (Triaxial-Counts)']\n",
      "File 69 columns: ['Date', 'Time', 'Activity (Triaxial-Counts)']\n",
      "File 70 columns: ['Date', 'Time', 'Activity (Triaxial-Counts)']\n",
      "File 71 columns: ['Date', 'Time', 'Activity (Triaxial-Counts)', 'Light (lux)']\n",
      "File 72 columns: ['Date', 'Time', 'Activity (Triaxial-Counts)']\n",
      "File 73 columns: ['Date', 'Time', 'Activity (Triaxial-Counts)']\n",
      "File 74 columns: ['Date', 'Time', 'Activity (Triaxial-Counts)']\n",
      "File 75 columns: ['Date', 'Time', 'Activity (Triaxial-Counts)']\n",
      "File 76 columns: ['Date', 'Time', 'Activity (Triaxial-Counts)']\n",
      "File 77 columns: ['Date', 'Time', 'Activity (Triaxial-Counts)']\n",
      "File 78 columns: ['Date', 'Time', 'Activity (Triaxial-Counts)', 'Light (lux)']\n",
      "File 79 columns: ['Date', 'Time', 'Activity (Triaxial-Counts)']\n"
     ]
    }
   ],
   "source": [
    "# Print column names for debugging\n",
    "for i, df in enumerate(data):\n",
    "    print(f\"File {i} columns: {df.columns.tolist()}\")"
   ]
  },
  {
   "cell_type": "code",
   "execution_count": 12,
   "id": "9103fd9b",
   "metadata": {},
   "outputs": [],
   "source": [
    "# Preprocess and extract features\n",
    "def preprocess_data(data):\n",
    "    # Extract features from the raw data\n",
    "    feature_data = []\n",
    "    for df in data:\n",
    "        if df.empty:\n",
    "            continue\n",
    "        \n",
    "        # Check and rename columns if necessary\n",
    "        if 'Activity (Triaxial-Counts)' not in df.columns:\n",
    "            raise KeyError(f\"Expected column 'Activity (Triaxial-Counts)' not found in dataframe with columns {df.columns.tolist()}\")\n",
    "        \n",
    "        # Example feature extraction: mean and std of triaxial counts\n",
    "        mean_activity = df['Activity (Triaxial-Counts)'].mean()\n",
    "        std_activity = df['Activity (Triaxial-Counts)'].std()\n",
    "        feature_data.append([mean_activity, std_activity])\n",
    "    return pd.DataFrame(feature_data, columns=['MeanActivity', 'StdActivity'])\n"
   ]
  },
  {
   "cell_type": "code",
   "execution_count": 13,
   "id": "06e53975",
   "metadata": {},
   "outputs": [
    {
     "name": "stdout",
     "output_type": "stream",
     "text": [
      "Extracted features for 80 files.\n"
     ]
    }
   ],
   "source": [
    "# Preprocess data\n",
    "X = preprocess_data(data)\n",
    "\n",
    "# Check if features are extracted correctly\n",
    "if X.empty:\n",
    "    raise ValueError(\"Feature extraction failed. No features extracted.\")\n",
    "else:\n",
    "    print(f\"Extracted features for {X.shape[0]} files.\")\n",
    "\n",
    "y = labels[:len(X)]  # Match labels to the number of successfully processed files\n"
   ]
  },
  {
   "cell_type": "code",
   "execution_count": 14,
   "id": "80a96f2c",
   "metadata": {},
   "outputs": [],
   "source": [
    "# Encode labels\n",
    "from sklearn.preprocessing import LabelEncoder\n",
    "le = LabelEncoder()\n",
    "y_encoded = le.fit_transform(y)"
   ]
  },
  {
   "cell_type": "code",
   "execution_count": 15,
   "id": "3b7f6764",
   "metadata": {},
   "outputs": [],
   "source": [
    "# Split the data into training and testing sets\n",
    "X_train, X_test, y_train, y_test = train_test_split(X, y_encoded, test_size=0.3, random_state=42)\n"
   ]
  },
  {
   "cell_type": "code",
   "execution_count": 16,
   "id": "a3d591d6",
   "metadata": {},
   "outputs": [
    {
     "data": {
      "text/html": [
       "<style>#sk-container-id-1 {color: black;background-color: white;}#sk-container-id-1 pre{padding: 0;}#sk-container-id-1 div.sk-toggleable {background-color: white;}#sk-container-id-1 label.sk-toggleable__label {cursor: pointer;display: block;width: 100%;margin-bottom: 0;padding: 0.3em;box-sizing: border-box;text-align: center;}#sk-container-id-1 label.sk-toggleable__label-arrow:before {content: \"▸\";float: left;margin-right: 0.25em;color: #696969;}#sk-container-id-1 label.sk-toggleable__label-arrow:hover:before {color: black;}#sk-container-id-1 div.sk-estimator:hover label.sk-toggleable__label-arrow:before {color: black;}#sk-container-id-1 div.sk-toggleable__content {max-height: 0;max-width: 0;overflow: hidden;text-align: left;background-color: #f0f8ff;}#sk-container-id-1 div.sk-toggleable__content pre {margin: 0.2em;color: black;border-radius: 0.25em;background-color: #f0f8ff;}#sk-container-id-1 input.sk-toggleable__control:checked~div.sk-toggleable__content {max-height: 200px;max-width: 100%;overflow: auto;}#sk-container-id-1 input.sk-toggleable__control:checked~label.sk-toggleable__label-arrow:before {content: \"▾\";}#sk-container-id-1 div.sk-estimator input.sk-toggleable__control:checked~label.sk-toggleable__label {background-color: #d4ebff;}#sk-container-id-1 div.sk-label input.sk-toggleable__control:checked~label.sk-toggleable__label {background-color: #d4ebff;}#sk-container-id-1 input.sk-hidden--visually {border: 0;clip: rect(1px 1px 1px 1px);clip: rect(1px, 1px, 1px, 1px);height: 1px;margin: -1px;overflow: hidden;padding: 0;position: absolute;width: 1px;}#sk-container-id-1 div.sk-estimator {font-family: monospace;background-color: #f0f8ff;border: 1px dotted black;border-radius: 0.25em;box-sizing: border-box;margin-bottom: 0.5em;}#sk-container-id-1 div.sk-estimator:hover {background-color: #d4ebff;}#sk-container-id-1 div.sk-parallel-item::after {content: \"\";width: 100%;border-bottom: 1px solid gray;flex-grow: 1;}#sk-container-id-1 div.sk-label:hover label.sk-toggleable__label {background-color: #d4ebff;}#sk-container-id-1 div.sk-serial::before {content: \"\";position: absolute;border-left: 1px solid gray;box-sizing: border-box;top: 0;bottom: 0;left: 50%;z-index: 0;}#sk-container-id-1 div.sk-serial {display: flex;flex-direction: column;align-items: center;background-color: white;padding-right: 0.2em;padding-left: 0.2em;position: relative;}#sk-container-id-1 div.sk-item {position: relative;z-index: 1;}#sk-container-id-1 div.sk-parallel {display: flex;align-items: stretch;justify-content: center;background-color: white;position: relative;}#sk-container-id-1 div.sk-item::before, #sk-container-id-1 div.sk-parallel-item::before {content: \"\";position: absolute;border-left: 1px solid gray;box-sizing: border-box;top: 0;bottom: 0;left: 50%;z-index: -1;}#sk-container-id-1 div.sk-parallel-item {display: flex;flex-direction: column;z-index: 1;position: relative;background-color: white;}#sk-container-id-1 div.sk-parallel-item:first-child::after {align-self: flex-end;width: 50%;}#sk-container-id-1 div.sk-parallel-item:last-child::after {align-self: flex-start;width: 50%;}#sk-container-id-1 div.sk-parallel-item:only-child::after {width: 0;}#sk-container-id-1 div.sk-dashed-wrapped {border: 1px dashed gray;margin: 0 0.4em 0.5em 0.4em;box-sizing: border-box;padding-bottom: 0.4em;background-color: white;}#sk-container-id-1 div.sk-label label {font-family: monospace;font-weight: bold;display: inline-block;line-height: 1.2em;}#sk-container-id-1 div.sk-label-container {text-align: center;}#sk-container-id-1 div.sk-container {/* jupyter's `normalize.less` sets `[hidden] { display: none; }` but bootstrap.min.css set `[hidden] { display: none !important; }` so we also need the `!important` here to be able to override the default hidden behavior on the sphinx rendered scikit-learn.org. See: https://github.com/scikit-learn/scikit-learn/issues/21755 */display: inline-block !important;position: relative;}#sk-container-id-1 div.sk-text-repr-fallback {display: none;}</style><div id=\"sk-container-id-1\" class=\"sk-top-container\"><div class=\"sk-text-repr-fallback\"><pre>RandomForestClassifier(random_state=42)</pre><b>In a Jupyter environment, please rerun this cell to show the HTML representation or trust the notebook. <br />On GitHub, the HTML representation is unable to render, please try loading this page with nbviewer.org.</b></div><div class=\"sk-container\" hidden><div class=\"sk-item\"><div class=\"sk-estimator sk-toggleable\"><input class=\"sk-toggleable__control sk-hidden--visually\" id=\"sk-estimator-id-1\" type=\"checkbox\" checked><label for=\"sk-estimator-id-1\" class=\"sk-toggleable__label sk-toggleable__label-arrow\">RandomForestClassifier</label><div class=\"sk-toggleable__content\"><pre>RandomForestClassifier(random_state=42)</pre></div></div></div></div></div>"
      ],
      "text/plain": [
       "RandomForestClassifier(random_state=42)"
      ]
     },
     "execution_count": 16,
     "metadata": {},
     "output_type": "execute_result"
    }
   ],
   "source": [
    "# Train the Random Forest Classifier\n",
    "clf = RandomForestClassifier(n_estimators=100, random_state=42)\n",
    "clf.fit(X_train, y_train)\n"
   ]
  },
  {
   "cell_type": "code",
   "execution_count": 17,
   "id": "28db7b37",
   "metadata": {},
   "outputs": [],
   "source": [
    "# Predict on the test set\n",
    "y_pred = clf.predict(X_test)\n"
   ]
  },
  {
   "cell_type": "code",
   "execution_count": 18,
   "id": "b89a6073",
   "metadata": {},
   "outputs": [],
   "source": [
    "# Evaluate the model\n",
    "accuracy = accuracy_score(y_test, y_pred)\n",
    "report = classification_report(y_test, y_pred, target_names=le.classes_)\n"
   ]
  },
  {
   "cell_type": "code",
   "execution_count": 19,
   "id": "82f7e8ec",
   "metadata": {},
   "outputs": [
    {
     "name": "stdout",
     "output_type": "stream",
     "text": [
      "Accuracy: 0.375\n",
      "Classification Report:\n",
      "              precision    recall  f1-score   support\n",
      "\n",
      "       Crime       0.38      0.43      0.40         7\n",
      "  Historical       0.50      0.50      0.50         6\n",
      "      Horror       0.40      0.40      0.40         5\n",
      "     Romance       0.20      0.17      0.18         6\n",
      "\n",
      "    accuracy                           0.38        24\n",
      "   macro avg       0.37      0.37      0.37        24\n",
      "weighted avg       0.37      0.38      0.37        24\n",
      "\n"
     ]
    }
   ],
   "source": [
    "print(f'Accuracy: {accuracy}')\n",
    "print(f'Classification Report:\\n{report}')\n"
   ]
  },
  {
   "cell_type": "code",
   "execution_count": 20,
   "id": "df57bd9e",
   "metadata": {},
   "outputs": [
    {
     "data": {
      "text/html": [
       "<style>#sk-container-id-2 {color: black;background-color: white;}#sk-container-id-2 pre{padding: 0;}#sk-container-id-2 div.sk-toggleable {background-color: white;}#sk-container-id-2 label.sk-toggleable__label {cursor: pointer;display: block;width: 100%;margin-bottom: 0;padding: 0.3em;box-sizing: border-box;text-align: center;}#sk-container-id-2 label.sk-toggleable__label-arrow:before {content: \"▸\";float: left;margin-right: 0.25em;color: #696969;}#sk-container-id-2 label.sk-toggleable__label-arrow:hover:before {color: black;}#sk-container-id-2 div.sk-estimator:hover label.sk-toggleable__label-arrow:before {color: black;}#sk-container-id-2 div.sk-toggleable__content {max-height: 0;max-width: 0;overflow: hidden;text-align: left;background-color: #f0f8ff;}#sk-container-id-2 div.sk-toggleable__content pre {margin: 0.2em;color: black;border-radius: 0.25em;background-color: #f0f8ff;}#sk-container-id-2 input.sk-toggleable__control:checked~div.sk-toggleable__content {max-height: 200px;max-width: 100%;overflow: auto;}#sk-container-id-2 input.sk-toggleable__control:checked~label.sk-toggleable__label-arrow:before {content: \"▾\";}#sk-container-id-2 div.sk-estimator input.sk-toggleable__control:checked~label.sk-toggleable__label {background-color: #d4ebff;}#sk-container-id-2 div.sk-label input.sk-toggleable__control:checked~label.sk-toggleable__label {background-color: #d4ebff;}#sk-container-id-2 input.sk-hidden--visually {border: 0;clip: rect(1px 1px 1px 1px);clip: rect(1px, 1px, 1px, 1px);height: 1px;margin: -1px;overflow: hidden;padding: 0;position: absolute;width: 1px;}#sk-container-id-2 div.sk-estimator {font-family: monospace;background-color: #f0f8ff;border: 1px dotted black;border-radius: 0.25em;box-sizing: border-box;margin-bottom: 0.5em;}#sk-container-id-2 div.sk-estimator:hover {background-color: #d4ebff;}#sk-container-id-2 div.sk-parallel-item::after {content: \"\";width: 100%;border-bottom: 1px solid gray;flex-grow: 1;}#sk-container-id-2 div.sk-label:hover label.sk-toggleable__label {background-color: #d4ebff;}#sk-container-id-2 div.sk-serial::before {content: \"\";position: absolute;border-left: 1px solid gray;box-sizing: border-box;top: 0;bottom: 0;left: 50%;z-index: 0;}#sk-container-id-2 div.sk-serial {display: flex;flex-direction: column;align-items: center;background-color: white;padding-right: 0.2em;padding-left: 0.2em;position: relative;}#sk-container-id-2 div.sk-item {position: relative;z-index: 1;}#sk-container-id-2 div.sk-parallel {display: flex;align-items: stretch;justify-content: center;background-color: white;position: relative;}#sk-container-id-2 div.sk-item::before, #sk-container-id-2 div.sk-parallel-item::before {content: \"\";position: absolute;border-left: 1px solid gray;box-sizing: border-box;top: 0;bottom: 0;left: 50%;z-index: -1;}#sk-container-id-2 div.sk-parallel-item {display: flex;flex-direction: column;z-index: 1;position: relative;background-color: white;}#sk-container-id-2 div.sk-parallel-item:first-child::after {align-self: flex-end;width: 50%;}#sk-container-id-2 div.sk-parallel-item:last-child::after {align-self: flex-start;width: 50%;}#sk-container-id-2 div.sk-parallel-item:only-child::after {width: 0;}#sk-container-id-2 div.sk-dashed-wrapped {border: 1px dashed gray;margin: 0 0.4em 0.5em 0.4em;box-sizing: border-box;padding-bottom: 0.4em;background-color: white;}#sk-container-id-2 div.sk-label label {font-family: monospace;font-weight: bold;display: inline-block;line-height: 1.2em;}#sk-container-id-2 div.sk-label-container {text-align: center;}#sk-container-id-2 div.sk-container {/* jupyter's `normalize.less` sets `[hidden] { display: none; }` but bootstrap.min.css set `[hidden] { display: none !important; }` so we also need the `!important` here to be able to override the default hidden behavior on the sphinx rendered scikit-learn.org. See: https://github.com/scikit-learn/scikit-learn/issues/21755 */display: inline-block !important;position: relative;}#sk-container-id-2 div.sk-text-repr-fallback {display: none;}</style><div id=\"sk-container-id-2\" class=\"sk-top-container\"><div class=\"sk-text-repr-fallback\"><pre>BernoulliNB()</pre><b>In a Jupyter environment, please rerun this cell to show the HTML representation or trust the notebook. <br />On GitHub, the HTML representation is unable to render, please try loading this page with nbviewer.org.</b></div><div class=\"sk-container\" hidden><div class=\"sk-item\"><div class=\"sk-estimator sk-toggleable\"><input class=\"sk-toggleable__control sk-hidden--visually\" id=\"sk-estimator-id-2\" type=\"checkbox\" checked><label for=\"sk-estimator-id-2\" class=\"sk-toggleable__label sk-toggleable__label-arrow\">BernoulliNB</label><div class=\"sk-toggleable__content\"><pre>BernoulliNB()</pre></div></div></div></div></div>"
      ],
      "text/plain": [
       "BernoulliNB()"
      ]
     },
     "execution_count": 20,
     "metadata": {},
     "output_type": "execute_result"
    }
   ],
   "source": [
    "from sklearn.naive_bayes import BernoulliNB\n",
    "clf = BernoulliNB()\n",
    "clf.fit(X_train,y_train)"
   ]
  },
  {
   "cell_type": "code",
   "execution_count": 21,
   "id": "08e589a0",
   "metadata": {},
   "outputs": [],
   "source": [
    "# Predict on the test set\n",
    "y_pred = clf.predict(X_test)\n"
   ]
  },
  {
   "cell_type": "code",
   "execution_count": 22,
   "id": "9072a4f0",
   "metadata": {},
   "outputs": [
    {
     "name": "stderr",
     "output_type": "stream",
     "text": [
      "C:\\ProgramData\\Anaconda3\\envs\\tensorflow\\lib\\site-packages\\sklearn\\metrics\\_classification.py:1334: UndefinedMetricWarning: Precision and F-score are ill-defined and being set to 0.0 in labels with no predicted samples. Use `zero_division` parameter to control this behavior.\n",
      "  _warn_prf(average, modifier, msg_start, len(result))\n",
      "C:\\ProgramData\\Anaconda3\\envs\\tensorflow\\lib\\site-packages\\sklearn\\metrics\\_classification.py:1334: UndefinedMetricWarning: Precision and F-score are ill-defined and being set to 0.0 in labels with no predicted samples. Use `zero_division` parameter to control this behavior.\n",
      "  _warn_prf(average, modifier, msg_start, len(result))\n",
      "C:\\ProgramData\\Anaconda3\\envs\\tensorflow\\lib\\site-packages\\sklearn\\metrics\\_classification.py:1334: UndefinedMetricWarning: Precision and F-score are ill-defined and being set to 0.0 in labels with no predicted samples. Use `zero_division` parameter to control this behavior.\n",
      "  _warn_prf(average, modifier, msg_start, len(result))\n"
     ]
    }
   ],
   "source": [
    "# Evaluate the model\n",
    "accuracy = accuracy_score(y_test, y_pred)\n",
    "report = classification_report(y_test, y_pred, target_names=le.classes_)\n"
   ]
  },
  {
   "cell_type": "code",
   "execution_count": 23,
   "id": "fd6906e9",
   "metadata": {},
   "outputs": [
    {
     "name": "stdout",
     "output_type": "stream",
     "text": [
      "Accuracy: 0.20833333333333334\n",
      "Classification Report:\n",
      "              precision    recall  f1-score   support\n",
      "\n",
      "       Crime       0.00      0.00      0.00         7\n",
      "  Historical       0.00      0.00      0.00         6\n",
      "      Horror       0.21      1.00      0.34         5\n",
      "     Romance       0.00      0.00      0.00         6\n",
      "\n",
      "    accuracy                           0.21        24\n",
      "   macro avg       0.05      0.25      0.09        24\n",
      "weighted avg       0.04      0.21      0.07        24\n",
      "\n"
     ]
    }
   ],
   "source": [
    "print(f'Accuracy: {accuracy}')\n",
    "print(f'Classification Report:\\n{report}')\n"
   ]
  },
  {
   "cell_type": "code",
   "execution_count": 24,
   "id": "9088a8d9",
   "metadata": {},
   "outputs": [
    {
     "name": "stdout",
     "output_type": "stream",
     "text": [
      "Accuracy: 0.3333333333333333\n",
      "Classification Report:\n",
      "              precision    recall  f1-score   support\n",
      "\n",
      "       Crime       0.43      0.43      0.43         7\n",
      "  Historical       0.43      0.50      0.46         6\n",
      "      Horror       0.20      0.20      0.20         5\n",
      "     Romance       0.20      0.17      0.18         6\n",
      "\n",
      "    accuracy                           0.33        24\n",
      "   macro avg       0.31      0.32      0.32        24\n",
      "weighted avg       0.32      0.33      0.33        24\n",
      "\n"
     ]
    }
   ],
   "source": [
    "from sklearn.tree import DecisionTreeClassifier\n",
    "clf =DecisionTreeClassifier(random_state=0)\n",
    "clf.fit(X_train, y_train)\n",
    "\n",
    "# Predict on the test set\n",
    "y_pred = clf.predict(X_test)\n",
    "\n",
    "# Evaluate the model\n",
    "accuracy = accuracy_score(y_test, y_pred)\n",
    "report = classification_report(y_test, y_pred, target_names=le.classes_)\n",
    "\n",
    "print(f'Accuracy: {accuracy}')\n",
    "print(f'Classification Report:\\n{report}')"
   ]
  },
  {
   "cell_type": "code",
   "execution_count": 25,
   "id": "331c981e",
   "metadata": {},
   "outputs": [
    {
     "name": "stdout",
     "output_type": "stream",
     "text": [
      "Accuracy: 0.25\n",
      "Classification Report:\n",
      "              precision    recall  f1-score   support\n",
      "\n",
      "       Crime       0.33      0.14      0.20         7\n",
      "  Historical       0.30      0.50      0.37         6\n",
      "      Horror       0.17      0.20      0.18         5\n",
      "     Romance       0.20      0.17      0.18         6\n",
      "\n",
      "    accuracy                           0.25        24\n",
      "   macro avg       0.25      0.25      0.23        24\n",
      "weighted avg       0.26      0.25      0.24        24\n",
      "\n"
     ]
    }
   ],
   "source": [
    "from sklearn.linear_model import LogisticRegression\n",
    "clf =LogisticRegression(max_iter=100)\n",
    "clf.fit(X_train, y_train)\n",
    "\n",
    "# Predict on the test set\n",
    "y_pred = clf.predict(X_test)\n",
    "\n",
    "# Evaluate the model\n",
    "accuracy = accuracy_score(y_test, y_pred)\n",
    "report = classification_report(y_test, y_pred, target_names=le.classes_)\n",
    "\n",
    "print(f'Accuracy: {accuracy}')\n",
    "print(f'Classification Report:\\n{report}')"
   ]
  },
  {
   "cell_type": "code",
   "execution_count": 26,
   "id": "447f1bde",
   "metadata": {},
   "outputs": [
    {
     "name": "stdout",
     "output_type": "stream",
     "text": [
      "Accuracy: 0.2916666666666667\n",
      "Classification Report:\n",
      "              precision    recall  f1-score   support\n",
      "\n",
      "       Crime       0.38      0.43      0.40         7\n",
      "  Historical       0.33      0.50      0.40         6\n",
      "      Horror       0.25      0.20      0.22         5\n",
      "     Romance       0.00      0.00      0.00         6\n",
      "\n",
      "    accuracy                           0.29        24\n",
      "   macro avg       0.24      0.28      0.26        24\n",
      "weighted avg       0.24      0.29      0.26        24\n",
      "\n"
     ]
    }
   ],
   "source": [
    "from sklearn.neighbors import KNeighborsClassifier\n",
    "clf = KNeighborsClassifier(n_neighbors=3)\n",
    "clf.fit(X_train, y_train)\n",
    "\n",
    "# Predict on the test set\n",
    "y_pred = clf.predict(X_test)\n",
    "\n",
    "# Evaluate the model\n",
    "accuracy = accuracy_score(y_test, y_pred)\n",
    "report = classification_report(y_test, y_pred, target_names=le.classes_)\n",
    "\n",
    "print(f'Accuracy: {accuracy}')\n",
    "print(f'Classification Report:\\n{report}')"
   ]
  },
  {
   "cell_type": "code",
   "execution_count": 27,
   "id": "9e72b327",
   "metadata": {},
   "outputs": [
    {
     "name": "stdout",
     "output_type": "stream",
     "text": [
      "Accuracy: 0.3333333333333333\n",
      "Classification Report:\n",
      "              precision    recall  f1-score   support\n",
      "\n",
      "       Crime       0.38      0.43      0.40         7\n",
      "  Historical       0.38      0.83      0.53         6\n",
      "      Horror       0.00      0.00      0.00         5\n",
      "     Romance       0.00      0.00      0.00         6\n",
      "\n",
      "    accuracy                           0.33        24\n",
      "   macro avg       0.19      0.32      0.23        24\n",
      "weighted avg       0.21      0.33      0.25        24\n",
      "\n"
     ]
    }
   ],
   "source": [
    "from sklearn.naive_bayes import MultinomialNB\n",
    "clf= MultinomialNB()\n",
    "clf.fit(X_train, y_train)\n",
    "\n",
    "# Predict on the test set\n",
    "y_pred = clf.predict(X_test)\n",
    "\n",
    "# Evaluate the model\n",
    "accuracy = accuracy_score(y_test, y_pred)\n",
    "report = classification_report(y_test, y_pred, target_names=le.classes_)\n",
    "\n",
    "print(f'Accuracy: {accuracy}')\n",
    "print(f'Classification Report:\\n{report}')"
   ]
  },
  {
   "cell_type": "code",
   "execution_count": 28,
   "id": "ab913cab",
   "metadata": {},
   "outputs": [
    {
     "name": "stdout",
     "output_type": "stream",
     "text": [
      "Accuracy: 0.375\n",
      "Classification Report:\n",
      "              precision    recall  f1-score   support\n",
      "\n",
      "       Crime       0.60      0.43      0.50         7\n",
      "  Historical       0.30      0.50      0.37         6\n",
      "      Horror       0.25      0.40      0.31         5\n",
      "     Romance       1.00      0.17      0.29         6\n",
      "\n",
      "    accuracy                           0.38        24\n",
      "   macro avg       0.54      0.37      0.37        24\n",
      "weighted avg       0.55      0.38      0.38        24\n",
      "\n"
     ]
    }
   ],
   "source": [
    "from sklearn.svm import SVC\n",
    "clf = SVC()\n",
    "clf.fit(X_train, y_train)\n",
    "\n",
    "# Predict on the test set\n",
    "y_pred = clf.predict(X_test)\n",
    "\n",
    "# Evaluate the model\n",
    "accuracy = accuracy_score(y_test, y_pred)\n",
    "report = classification_report(y_test, y_pred, target_names=le.classes_)\n",
    "\n",
    "print(f'Accuracy: {accuracy}')\n",
    "print(f'Classification Report:\\n{report}')"
   ]
  },
  {
   "cell_type": "code",
   "execution_count": null,
   "id": "b4a46251",
   "metadata": {},
   "outputs": [],
   "source": []
  }
 ],
 "metadata": {
  "kernelspec": {
   "display_name": "Python 3 (ipykernel)",
   "language": "python",
   "name": "python3"
  },
  "language_info": {
   "codemirror_mode": {
    "name": "ipython",
    "version": 3
   },
   "file_extension": ".py",
   "mimetype": "text/x-python",
   "name": "python",
   "nbconvert_exporter": "python",
   "pygments_lexer": "ipython3",
   "version": "3.9.13"
  }
 },
 "nbformat": 4,
 "nbformat_minor": 5
}
